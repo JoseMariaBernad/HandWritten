version https://git-lfs.github.com/spec/v1
oid sha256:bccf54bac5e3af1b5632fa65ec18fcade2c530dfd89d3735d1bf9d6fa3213db6
size 3523
