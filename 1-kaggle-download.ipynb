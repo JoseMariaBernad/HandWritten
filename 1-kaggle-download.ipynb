version https://git-lfs.github.com/spec/v1
oid sha256:1820af2cd73a175b01d2c02020c0910a686d009897964520e2e8e9844e027ca9
size 3248
