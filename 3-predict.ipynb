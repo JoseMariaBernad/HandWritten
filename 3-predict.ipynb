version https://git-lfs.github.com/spec/v1
oid sha256:7ffc09ff686ed659ce7e5fae9b96996401842d7f93f9a56f409e6967284250ac
size 30135
