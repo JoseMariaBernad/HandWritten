version https://git-lfs.github.com/spec/v1
oid sha256:51ab4be158f61b7b5e4462947d8a9c261fd8ebc6fde8b03e6b9df7d2f5c83fb7
size 55209
