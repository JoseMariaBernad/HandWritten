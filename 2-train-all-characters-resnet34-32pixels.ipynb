version https://git-lfs.github.com/spec/v1
oid sha256:1900aaa4db7e5ae6e42a4ce65f2c34d7e89f53574e2df9e0d50e845cd207b233
size 224204
